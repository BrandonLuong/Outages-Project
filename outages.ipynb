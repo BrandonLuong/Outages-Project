{
 "cells": [
  {
   "cell_type": "markdown",
   "metadata": {},
   "source": [
    "# Power Outages\n",
    "This project uses major power outage data in the continental U.S. from January 2000 to July 2016. Here, a major power  outage is defined as a power outage that impacted at least 50,000 customers or caused an unplanned firm load loss of atleast 300MW. Interesting questions to consider include:\n",
    "- Where and when do major power outages tend to occur?\n",
    "- What are the characteristics of major power outages with higher severity? Variables to consider include location, time, climate, land-use characteristics, electricity consumption patterns, economic characteristics, etc. What risk factors may an energy company want to look into when predicting the location and severity of its next major power outage?\n",
    "- What characteristics are associated with each category of cause?\n",
    "- How have characteristics of major power outages changed over time? Is there a clear trend?\n",
    "\n",
    "### Getting the Data\n",
    "The data is downloadable [here](https://engineering.purdue.edu/LASCI/research-data/outages/outagerisks).\n",
    "\n",
    "A data dictionary is available at this [article](https://www.sciencedirect.com/science/article/pii/S2352340918307182) under *Table 1. Variable descriptions*.\n",
    "\n",
    "### Cleaning and EDA\n",
    "- Note that the data is given as an Excel file rather than a CSV. Open the data in Excel or another spreadsheet application and determine which rows and columns of the Excel spreadsheet should be ignored when loading the data in pandas.\n",
    "- Clean the data.\n",
    "    - The power outage start date and time is given by `OUTAGE.START.DATE` and `OUTAGE.START.TIME`. It would be preferable if these two columns were combined into one datetime column. Combine `OUTAGE.START.DATE` and `OUTAGE.START.TIME` into a new datetime column called `OUTAGE.START`. Similarly, combine `OUTAGE.RESTORATION.DATE` and `OUTAGE.RESTORATION.TIME` into a new datetime column called `OUTAGE.RESTORATION`.\n",
    "- Understand the data in ways relevant to your question using univariate and bivariate analysis of the data as well as aggregations.\n",
    "\n",
    "*Hint 1: pandas can load multiple filetypes: `pd.read_csv`, `pd.read_excel`, `pd.read_html`, `pd.read_json`, etc.*\n",
    "\n",
    "*Hint 2: `pd.to_datetime` and `pd.to_timedelta` will be useful here.*\n",
    "\n",
    "*Tip: To visualize geospatial data, consider [Folium](https://python-visualization.github.io/folium/) or another geospatial plotting library.*\n",
    "\n",
    "### Assessment of Missingness\n",
    "- Assess the missingness of a column that is not missing by  design.\n",
    "\n",
    "### Hypothesis Test\n",
    "Find a hypothesis test to perform. You can use the questions at the top of the notebook for inspiration."
   ]
  },
  {
   "cell_type": "markdown",
   "metadata": {},
   "source": [
    "# Summary of Findings\n",
    "\n",
    "### Introduction\n",
    "The dataset I am using contains information on power outages that occurred in the U.S. in different states. This data contains information related to the major outages across the U.S. including characteristics of the states like energy consumption and population. Also included, are information of when the outage took place, the severity, and cause. This information can be used to explore a wide range of patterns and questions. The question I am investigating is: do certain causes of the outage have an affect on the timing of the outage? For example, causes like storms or natural disasters may have a greater affect on how long the outage lasts compared to that of equipment failure or vandalism. Moreover, certain causes may occur more frequently in certain parts of the day than others. So, the data on how the outages occurred and also the timing of the outages is related to my question of interest.\n",
    "\n",
    "### Cleaning and EDA\n",
    "The first thing I did was combine OUTAGE.START.DATE and OUTAGE.START.TIME into one column as well as OUTAGE.RESTORATION.DATE and OUTAGE.RESTORATION.TIME. Doing so allowed me to create a new column that indicated the period of day when the outage occurred. This helped answering the question of when each cause occurred. Also, to make it easier, I kept relevant rows and assigned it to a new dataframe, df2. Additionally, I created a new column indicating whether the values in the CAUSE.CATEGORY column was 'severe weather' or not. This was for the hypothesis testing. I did not drop any rows or replace any values as it did not do anything for my analysis.\n",
    "\n",
    "Next, I performed univariate and bivariate analysis. I created a bar plot of the occurrences of the different causes. From this, I noticed that severe weather was the leading cause of outages. I also create a histogram of the outage duration times and observed that there were a few outliers in the data. This was also indicated by lookng at statistics from the describe() function. For the bivariate analysis, I plotted the distribution of duration times during different parts of the day and saw that the distributions were very similar with the am distribution having a smaller variance. I also plotted the same distribution of duration times except for each cause. They seemed to have similar distributions.\n",
    "\n",
    "Looking at the aggregate statistics, I observed the average duration grouped by category. I observed that fuel supply emergency has the highest average duration time followed by severe weather, and islanding with the lowest average. I also took a look at the number of times each caused occurred by the time period.\n",
    "\n",
    "### Assessment of Missingness\n",
    "I believe that the data is MAR. This is because for certain variables such as CAUSE.CATEGORY.DETAIL, the cause may be unknown. So the missingness of this variable isn't explained by the actual category instead, it may depened on other columns like the population of the area or anomaly level. \n",
    "\n",
    "I ran two permutation tests on two different columns and found that one of them depended on CAUSE.CATEGORY and the other did not. For the first test, I tested the missingness of the CAUSE.CATEGORY.DETAIL column to see if it was dependent of CAUSE.CATEGORY. I rejected the null with significance level of 0.05 and concluded that the column does depend on CAUSE.CATEGORY. For the second test, I assessed the column OUTAGE.DURATION, and failed to reject the null hypothesis. So I was not able to say that the column depended on CAUSE.CATEGORY. For both tests, I used the TVD test statistic.\n",
    "\n",
    "### Hypothesis Test\n",
    "The question I pursued was if there is a relationship between the duration of the power outages and the cause. So, the null hypothesis is: the duration of the power outages caused by severe weather are the same as the duration of power outages not caused by severe weather. The alternative hypothesis is: outages caused by severe weather has a longer duration on average. Since the distributions are numerical I decided on the difference in means as my test statistic and a significance level of 0.05. To test my hypothesis, I ran a permutation test with 500 simulations. As a result, I got a p-value of 0, so I rejected the null hypothesis. I concluded that power outages caused by severe weather has a longer duration according to the alternative hypothesis."
   ]
  },
  {
   "cell_type": "markdown",
   "metadata": {},
   "source": [
    "# Code"
   ]
  },
  {
   "cell_type": "code",
   "execution_count": 1,
   "metadata": {
    "ExecuteTime": {
     "end_time": "2019-10-31T23:36:28.652554Z",
     "start_time": "2019-10-31T23:36:27.180520Z"
    }
   },
   "outputs": [],
   "source": [
    "import matplotlib.pyplot as plt\n",
    "import numpy as np\n",
    "import os\n",
    "import pandas as pd\n",
    "import seaborn as sns\n",
    "%matplotlib inline\n",
    "%config InlineBackend.figure_format = 'retina'  # Higher resolution figures\n",
    "\n",
    "from datetime import datetime, date\n",
    "import folium"
   ]
  },
  {
   "cell_type": "markdown",
   "metadata": {},
   "source": [
    "### Cleaning and EDA"
   ]
  },
  {
   "cell_type": "code",
   "execution_count": 2,
   "metadata": {
    "ExecuteTime": {
     "end_time": "2019-10-31T23:36:28.657068Z",
     "start_time": "2019-10-31T23:36:28.654650Z"
    }
   },
   "outputs": [],
   "source": [
    "# read in the data\n",
    "df = pd.read_excel('outage.xlsx', skiprows=[0,1,2,3,4])\n",
    "# drop unnecessary columns\n",
    "df = df.drop(columns=['variables', 'OBS']).drop(index=0)\n",
    "df1 = df.copy()"
   ]
  },
  {
   "cell_type": "code",
   "execution_count": 3,
   "metadata": {},
   "outputs": [],
   "source": [
    "# convert to datetime object\n",
    "start_dates = pd.to_datetime(df['OUTAGE.START.DATE']).astype(str)\n",
    "start_times = (df['OUTAGE.START.TIME']).astype(str)\n",
    "\n",
    "restore_dates = pd.to_datetime(df['OUTAGE.RESTORATION.DATE']).astype(str)\n",
    "restore_times = (df['OUTAGE.RESTORATION.TIME']).astype(str)\n",
    "\n",
    "# combine datetimes\n",
    "outage_start = pd.to_datetime(start_dates + ' ' + start_times, errors='coerce')\n",
    "outage_restoration = pd.to_datetime(restore_dates + ' ' + restore_times, errors='coerce')"
   ]
  },
  {
   "cell_type": "markdown",
   "metadata": {},
   "source": [
    "After adding the columns, we'll take a look at what the dataframe looks like. There are two new columns: OUTAGE.START and OUTAGE.RESTORATION"
   ]
  },
  {
   "cell_type": "code",
   "execution_count": 4,
   "metadata": {},
   "outputs": [
    {
     "data": {
      "text/html": [
       "<div>\n",
       "<style scoped>\n",
       "    .dataframe tbody tr th:only-of-type {\n",
       "        vertical-align: middle;\n",
       "    }\n",
       "\n",
       "    .dataframe tbody tr th {\n",
       "        vertical-align: top;\n",
       "    }\n",
       "\n",
       "    .dataframe thead th {\n",
       "        text-align: right;\n",
       "    }\n",
       "</style>\n",
       "<table border=\"1\" class=\"dataframe\">\n",
       "  <thead>\n",
       "    <tr style=\"text-align: right;\">\n",
       "      <th></th>\n",
       "      <th>YEAR</th>\n",
       "      <th>MONTH</th>\n",
       "      <th>U.S._STATE</th>\n",
       "      <th>POSTAL.CODE</th>\n",
       "      <th>NERC.REGION</th>\n",
       "      <th>CLIMATE.REGION</th>\n",
       "      <th>ANOMALY.LEVEL</th>\n",
       "      <th>CLIMATE.CATEGORY</th>\n",
       "      <th>CAUSE.CATEGORY</th>\n",
       "      <th>CAUSE.CATEGORY.DETAIL</th>\n",
       "      <th>...</th>\n",
       "      <th>POPDEN_URBAN</th>\n",
       "      <th>POPDEN_UC</th>\n",
       "      <th>POPDEN_RURAL</th>\n",
       "      <th>AREAPCT_URBAN</th>\n",
       "      <th>AREAPCT_UC</th>\n",
       "      <th>PCT_LAND</th>\n",
       "      <th>PCT_WATER_TOT</th>\n",
       "      <th>PCT_WATER_INLAND</th>\n",
       "      <th>OUTAGE.START</th>\n",
       "      <th>OUTAGE.RESTORATION</th>\n",
       "    </tr>\n",
       "  </thead>\n",
       "  <tbody>\n",
       "    <tr>\n",
       "      <th>1</th>\n",
       "      <td>2011.0</td>\n",
       "      <td>7.0</td>\n",
       "      <td>Minnesota</td>\n",
       "      <td>MN</td>\n",
       "      <td>MRO</td>\n",
       "      <td>East North Central</td>\n",
       "      <td>-0.3</td>\n",
       "      <td>normal</td>\n",
       "      <td>severe weather</td>\n",
       "      <td>NaN</td>\n",
       "      <td>...</td>\n",
       "      <td>2279</td>\n",
       "      <td>1700.5</td>\n",
       "      <td>18.2</td>\n",
       "      <td>2.14</td>\n",
       "      <td>0.6</td>\n",
       "      <td>91.592666</td>\n",
       "      <td>8.407334</td>\n",
       "      <td>5.478743</td>\n",
       "      <td>2011-07-01 17:00:00</td>\n",
       "      <td>2011-07-03 20:00:00</td>\n",
       "    </tr>\n",
       "    <tr>\n",
       "      <th>2</th>\n",
       "      <td>2014.0</td>\n",
       "      <td>5.0</td>\n",
       "      <td>Minnesota</td>\n",
       "      <td>MN</td>\n",
       "      <td>MRO</td>\n",
       "      <td>East North Central</td>\n",
       "      <td>-0.1</td>\n",
       "      <td>normal</td>\n",
       "      <td>intentional attack</td>\n",
       "      <td>vandalism</td>\n",
       "      <td>...</td>\n",
       "      <td>2279</td>\n",
       "      <td>1700.5</td>\n",
       "      <td>18.2</td>\n",
       "      <td>2.14</td>\n",
       "      <td>0.6</td>\n",
       "      <td>91.592666</td>\n",
       "      <td>8.407334</td>\n",
       "      <td>5.478743</td>\n",
       "      <td>2014-05-11 18:38:00</td>\n",
       "      <td>2014-05-11 18:39:00</td>\n",
       "    </tr>\n",
       "    <tr>\n",
       "      <th>3</th>\n",
       "      <td>2010.0</td>\n",
       "      <td>10.0</td>\n",
       "      <td>Minnesota</td>\n",
       "      <td>MN</td>\n",
       "      <td>MRO</td>\n",
       "      <td>East North Central</td>\n",
       "      <td>-1.5</td>\n",
       "      <td>cold</td>\n",
       "      <td>severe weather</td>\n",
       "      <td>heavy wind</td>\n",
       "      <td>...</td>\n",
       "      <td>2279</td>\n",
       "      <td>1700.5</td>\n",
       "      <td>18.2</td>\n",
       "      <td>2.14</td>\n",
       "      <td>0.6</td>\n",
       "      <td>91.592666</td>\n",
       "      <td>8.407334</td>\n",
       "      <td>5.478743</td>\n",
       "      <td>2010-10-26 20:00:00</td>\n",
       "      <td>2010-10-28 22:00:00</td>\n",
       "    </tr>\n",
       "    <tr>\n",
       "      <th>4</th>\n",
       "      <td>2012.0</td>\n",
       "      <td>6.0</td>\n",
       "      <td>Minnesota</td>\n",
       "      <td>MN</td>\n",
       "      <td>MRO</td>\n",
       "      <td>East North Central</td>\n",
       "      <td>-0.1</td>\n",
       "      <td>normal</td>\n",
       "      <td>severe weather</td>\n",
       "      <td>thunderstorm</td>\n",
       "      <td>...</td>\n",
       "      <td>2279</td>\n",
       "      <td>1700.5</td>\n",
       "      <td>18.2</td>\n",
       "      <td>2.14</td>\n",
       "      <td>0.6</td>\n",
       "      <td>91.592666</td>\n",
       "      <td>8.407334</td>\n",
       "      <td>5.478743</td>\n",
       "      <td>2012-06-19 04:30:00</td>\n",
       "      <td>2012-06-20 23:00:00</td>\n",
       "    </tr>\n",
       "    <tr>\n",
       "      <th>5</th>\n",
       "      <td>2015.0</td>\n",
       "      <td>7.0</td>\n",
       "      <td>Minnesota</td>\n",
       "      <td>MN</td>\n",
       "      <td>MRO</td>\n",
       "      <td>East North Central</td>\n",
       "      <td>1.2</td>\n",
       "      <td>warm</td>\n",
       "      <td>severe weather</td>\n",
       "      <td>NaN</td>\n",
       "      <td>...</td>\n",
       "      <td>2279</td>\n",
       "      <td>1700.5</td>\n",
       "      <td>18.2</td>\n",
       "      <td>2.14</td>\n",
       "      <td>0.6</td>\n",
       "      <td>91.592666</td>\n",
       "      <td>8.407334</td>\n",
       "      <td>5.478743</td>\n",
       "      <td>2015-07-18 02:00:00</td>\n",
       "      <td>2015-07-19 07:00:00</td>\n",
       "    </tr>\n",
       "  </tbody>\n",
       "</table>\n",
       "<p>5 rows × 53 columns</p>\n",
       "</div>"
      ],
      "text/plain": [
       "     YEAR  MONTH U.S._STATE POSTAL.CODE NERC.REGION      CLIMATE.REGION  \\\n",
       "1  2011.0    7.0  Minnesota          MN         MRO  East North Central   \n",
       "2  2014.0    5.0  Minnesota          MN         MRO  East North Central   \n",
       "3  2010.0   10.0  Minnesota          MN         MRO  East North Central   \n",
       "4  2012.0    6.0  Minnesota          MN         MRO  East North Central   \n",
       "5  2015.0    7.0  Minnesota          MN         MRO  East North Central   \n",
       "\n",
       "  ANOMALY.LEVEL CLIMATE.CATEGORY      CAUSE.CATEGORY CAUSE.CATEGORY.DETAIL  \\\n",
       "1          -0.3           normal      severe weather                   NaN   \n",
       "2          -0.1           normal  intentional attack             vandalism   \n",
       "3          -1.5             cold      severe weather            heavy wind   \n",
       "4          -0.1           normal      severe weather          thunderstorm   \n",
       "5           1.2             warm      severe weather                   NaN   \n",
       "\n",
       "   ... POPDEN_URBAN  POPDEN_UC POPDEN_RURAL  AREAPCT_URBAN AREAPCT_UC  \\\n",
       "1  ...         2279     1700.5         18.2           2.14        0.6   \n",
       "2  ...         2279     1700.5         18.2           2.14        0.6   \n",
       "3  ...         2279     1700.5         18.2           2.14        0.6   \n",
       "4  ...         2279     1700.5         18.2           2.14        0.6   \n",
       "5  ...         2279     1700.5         18.2           2.14        0.6   \n",
       "\n",
       "    PCT_LAND PCT_WATER_TOT PCT_WATER_INLAND        OUTAGE.START  \\\n",
       "1  91.592666      8.407334         5.478743 2011-07-01 17:00:00   \n",
       "2  91.592666      8.407334         5.478743 2014-05-11 18:38:00   \n",
       "3  91.592666      8.407334         5.478743 2010-10-26 20:00:00   \n",
       "4  91.592666      8.407334         5.478743 2012-06-19 04:30:00   \n",
       "5  91.592666      8.407334         5.478743 2015-07-18 02:00:00   \n",
       "\n",
       "   OUTAGE.RESTORATION  \n",
       "1 2011-07-03 20:00:00  \n",
       "2 2014-05-11 18:39:00  \n",
       "3 2010-10-28 22:00:00  \n",
       "4 2012-06-20 23:00:00  \n",
       "5 2015-07-19 07:00:00  \n",
       "\n",
       "[5 rows x 53 columns]"
      ]
     },
     "execution_count": 4,
     "metadata": {},
     "output_type": "execute_result"
    }
   ],
   "source": [
    "# add the combined dates\n",
    "df1['OUTAGE.START'] = outage_start\n",
    "df1['OUTAGE.RESTORATION'] = outage_restoration\n",
    "# drop the columns that were combined\n",
    "df1 = df1.drop(columns=['OUTAGE.START.DATE', 'OUTAGE.START.TIME', 'OUTAGE.RESTORATION.DATE', 'OUTAGE.RESTORATION.TIME'])\n",
    "\n",
    "# convert OUTAGE.DURATION into int types\n",
    "df1['OUTAGE.DURATION'] = df1['OUTAGE.DURATION'].astype(float)\n",
    "df1.head()"
   ]
  },
  {
   "cell_type": "markdown",
   "metadata": {},
   "source": [
    "We'll create a new columns called START.TIME.PERIOD that indicates if the outage occurred in the am, afternoon, or pm. The result can be seen below"
   ]
  },
  {
   "cell_type": "code",
   "execution_count": 5,
   "metadata": {},
   "outputs": [
    {
     "data": {
      "text/html": [
       "<div>\n",
       "<style scoped>\n",
       "    .dataframe tbody tr th:only-of-type {\n",
       "        vertical-align: middle;\n",
       "    }\n",
       "\n",
       "    .dataframe tbody tr th {\n",
       "        vertical-align: top;\n",
       "    }\n",
       "\n",
       "    .dataframe thead th {\n",
       "        text-align: right;\n",
       "    }\n",
       "</style>\n",
       "<table border=\"1\" class=\"dataframe\">\n",
       "  <thead>\n",
       "    <tr style=\"text-align: right;\">\n",
       "      <th></th>\n",
       "      <th>YEAR</th>\n",
       "      <th>MONTH</th>\n",
       "      <th>U.S._STATE</th>\n",
       "      <th>POSTAL.CODE</th>\n",
       "      <th>NERC.REGION</th>\n",
       "      <th>CLIMATE.REGION</th>\n",
       "      <th>ANOMALY.LEVEL</th>\n",
       "      <th>CLIMATE.CATEGORY</th>\n",
       "      <th>CAUSE.CATEGORY</th>\n",
       "      <th>CAUSE.CATEGORY.DETAIL</th>\n",
       "      <th>...</th>\n",
       "      <th>POPDEN_UC</th>\n",
       "      <th>POPDEN_RURAL</th>\n",
       "      <th>AREAPCT_URBAN</th>\n",
       "      <th>AREAPCT_UC</th>\n",
       "      <th>PCT_LAND</th>\n",
       "      <th>PCT_WATER_TOT</th>\n",
       "      <th>PCT_WATER_INLAND</th>\n",
       "      <th>OUTAGE.START</th>\n",
       "      <th>OUTAGE.RESTORATION</th>\n",
       "      <th>START.TIME.PERIOD</th>\n",
       "    </tr>\n",
       "  </thead>\n",
       "  <tbody>\n",
       "    <tr>\n",
       "      <th>1</th>\n",
       "      <td>2011.0</td>\n",
       "      <td>7.0</td>\n",
       "      <td>Minnesota</td>\n",
       "      <td>MN</td>\n",
       "      <td>MRO</td>\n",
       "      <td>East North Central</td>\n",
       "      <td>-0.3</td>\n",
       "      <td>normal</td>\n",
       "      <td>severe weather</td>\n",
       "      <td>NaN</td>\n",
       "      <td>...</td>\n",
       "      <td>1700.5</td>\n",
       "      <td>18.2</td>\n",
       "      <td>2.14</td>\n",
       "      <td>0.6</td>\n",
       "      <td>91.592666</td>\n",
       "      <td>8.407334</td>\n",
       "      <td>5.478743</td>\n",
       "      <td>2011-07-01 17:00:00</td>\n",
       "      <td>2011-07-03 20:00:00</td>\n",
       "      <td>Afternoon</td>\n",
       "    </tr>\n",
       "    <tr>\n",
       "      <th>2</th>\n",
       "      <td>2014.0</td>\n",
       "      <td>5.0</td>\n",
       "      <td>Minnesota</td>\n",
       "      <td>MN</td>\n",
       "      <td>MRO</td>\n",
       "      <td>East North Central</td>\n",
       "      <td>-0.1</td>\n",
       "      <td>normal</td>\n",
       "      <td>intentional attack</td>\n",
       "      <td>vandalism</td>\n",
       "      <td>...</td>\n",
       "      <td>1700.5</td>\n",
       "      <td>18.2</td>\n",
       "      <td>2.14</td>\n",
       "      <td>0.6</td>\n",
       "      <td>91.592666</td>\n",
       "      <td>8.407334</td>\n",
       "      <td>5.478743</td>\n",
       "      <td>2014-05-11 18:38:00</td>\n",
       "      <td>2014-05-11 18:39:00</td>\n",
       "      <td>PM</td>\n",
       "    </tr>\n",
       "    <tr>\n",
       "      <th>3</th>\n",
       "      <td>2010.0</td>\n",
       "      <td>10.0</td>\n",
       "      <td>Minnesota</td>\n",
       "      <td>MN</td>\n",
       "      <td>MRO</td>\n",
       "      <td>East North Central</td>\n",
       "      <td>-1.5</td>\n",
       "      <td>cold</td>\n",
       "      <td>severe weather</td>\n",
       "      <td>heavy wind</td>\n",
       "      <td>...</td>\n",
       "      <td>1700.5</td>\n",
       "      <td>18.2</td>\n",
       "      <td>2.14</td>\n",
       "      <td>0.6</td>\n",
       "      <td>91.592666</td>\n",
       "      <td>8.407334</td>\n",
       "      <td>5.478743</td>\n",
       "      <td>2010-10-26 20:00:00</td>\n",
       "      <td>2010-10-28 22:00:00</td>\n",
       "      <td>PM</td>\n",
       "    </tr>\n",
       "    <tr>\n",
       "      <th>4</th>\n",
       "      <td>2012.0</td>\n",
       "      <td>6.0</td>\n",
       "      <td>Minnesota</td>\n",
       "      <td>MN</td>\n",
       "      <td>MRO</td>\n",
       "      <td>East North Central</td>\n",
       "      <td>-0.1</td>\n",
       "      <td>normal</td>\n",
       "      <td>severe weather</td>\n",
       "      <td>thunderstorm</td>\n",
       "      <td>...</td>\n",
       "      <td>1700.5</td>\n",
       "      <td>18.2</td>\n",
       "      <td>2.14</td>\n",
       "      <td>0.6</td>\n",
       "      <td>91.592666</td>\n",
       "      <td>8.407334</td>\n",
       "      <td>5.478743</td>\n",
       "      <td>2012-06-19 04:30:00</td>\n",
       "      <td>2012-06-20 23:00:00</td>\n",
       "      <td>PM</td>\n",
       "    </tr>\n",
       "    <tr>\n",
       "      <th>5</th>\n",
       "      <td>2015.0</td>\n",
       "      <td>7.0</td>\n",
       "      <td>Minnesota</td>\n",
       "      <td>MN</td>\n",
       "      <td>MRO</td>\n",
       "      <td>East North Central</td>\n",
       "      <td>1.2</td>\n",
       "      <td>warm</td>\n",
       "      <td>severe weather</td>\n",
       "      <td>NaN</td>\n",
       "      <td>...</td>\n",
       "      <td>1700.5</td>\n",
       "      <td>18.2</td>\n",
       "      <td>2.14</td>\n",
       "      <td>0.6</td>\n",
       "      <td>91.592666</td>\n",
       "      <td>8.407334</td>\n",
       "      <td>5.478743</td>\n",
       "      <td>2015-07-18 02:00:00</td>\n",
       "      <td>2015-07-19 07:00:00</td>\n",
       "      <td>PM</td>\n",
       "    </tr>\n",
       "  </tbody>\n",
       "</table>\n",
       "<p>5 rows × 54 columns</p>\n",
       "</div>"
      ],
      "text/plain": [
       "     YEAR  MONTH U.S._STATE POSTAL.CODE NERC.REGION      CLIMATE.REGION  \\\n",
       "1  2011.0    7.0  Minnesota          MN         MRO  East North Central   \n",
       "2  2014.0    5.0  Minnesota          MN         MRO  East North Central   \n",
       "3  2010.0   10.0  Minnesota          MN         MRO  East North Central   \n",
       "4  2012.0    6.0  Minnesota          MN         MRO  East North Central   \n",
       "5  2015.0    7.0  Minnesota          MN         MRO  East North Central   \n",
       "\n",
       "  ANOMALY.LEVEL CLIMATE.CATEGORY      CAUSE.CATEGORY CAUSE.CATEGORY.DETAIL  \\\n",
       "1          -0.3           normal      severe weather                   NaN   \n",
       "2          -0.1           normal  intentional attack             vandalism   \n",
       "3          -1.5             cold      severe weather            heavy wind   \n",
       "4          -0.1           normal      severe weather          thunderstorm   \n",
       "5           1.2             warm      severe weather                   NaN   \n",
       "\n",
       "   ... POPDEN_UC  POPDEN_RURAL AREAPCT_URBAN  AREAPCT_UC   PCT_LAND  \\\n",
       "1  ...    1700.5          18.2          2.14         0.6  91.592666   \n",
       "2  ...    1700.5          18.2          2.14         0.6  91.592666   \n",
       "3  ...    1700.5          18.2          2.14         0.6  91.592666   \n",
       "4  ...    1700.5          18.2          2.14         0.6  91.592666   \n",
       "5  ...    1700.5          18.2          2.14         0.6  91.592666   \n",
       "\n",
       "  PCT_WATER_TOT PCT_WATER_INLAND        OUTAGE.START  OUTAGE.RESTORATION  \\\n",
       "1      8.407334         5.478743 2011-07-01 17:00:00 2011-07-03 20:00:00   \n",
       "2      8.407334         5.478743 2014-05-11 18:38:00 2014-05-11 18:39:00   \n",
       "3      8.407334         5.478743 2010-10-26 20:00:00 2010-10-28 22:00:00   \n",
       "4      8.407334         5.478743 2012-06-19 04:30:00 2012-06-20 23:00:00   \n",
       "5      8.407334         5.478743 2015-07-18 02:00:00 2015-07-19 07:00:00   \n",
       "\n",
       "  START.TIME.PERIOD  \n",
       "1         Afternoon  \n",
       "2                PM  \n",
       "3                PM  \n",
       "4                PM  \n",
       "5                PM  \n",
       "\n",
       "[5 rows x 54 columns]"
      ]
     },
     "execution_count": 5,
     "metadata": {},
     "output_type": "execute_result"
    }
   ],
   "source": [
    "# indicate when the start was morning, afternoon, or night time\n",
    "# AM if the time was between 5 am and 11 am\n",
    "# Afternoon if the time was between 11 am and 5 pm\n",
    "# PM if the time was between 5 pm and 5 am\n",
    "start_time_period = df1['OUTAGE.START'].dt.time.apply(lambda x: 'AM' if x.hour >= 5 and x.hour <= 11 else ('Afternoon' if x.hour > 11 and x.hour <= 17 else('PM' if x.hour > 17 or x.hour <= 5 else x)))\n",
    "\n",
    "# add start_time_period column to dataframe\n",
    "df1['START.TIME.PERIOD'] = start_time_period\n",
    "df1.head()"
   ]
  },
  {
   "cell_type": "markdown",
   "metadata": {},
   "source": [
    "We'll get relevant columns that pertain to the question. These columns include the causes of the outage and the timing such as duration, start, and restoration time"
   ]
  },
  {
   "cell_type": "code",
   "execution_count": 6,
   "metadata": {},
   "outputs": [],
   "source": [
    "# Get relevant columns to the question of interest and store it in a new variable called df2\n",
    "df2 = df1[['YEAR', 'U.S._STATE', 'POSTAL.CODE', 'CAUSE.CATEGORY', 'CAUSE.CATEGORY.DETAIL', 'OUTAGE.DURATION','OUTAGE.START', 'OUTAGE.RESTORATION', 'START.TIME.PERIOD']]"
   ]
  },
  {
   "cell_type": "code",
   "execution_count": 7,
   "metadata": {},
   "outputs": [
    {
     "data": {
      "text/plain": [
       "YEAR                     0.000000\n",
       "U.S._STATE               0.000000\n",
       "POSTAL.CODE              0.000000\n",
       "CAUSE.CATEGORY           0.000000\n",
       "CAUSE.CATEGORY.DETAIL    0.307040\n",
       "OUTAGE.DURATION          0.037810\n",
       "OUTAGE.START             0.005867\n",
       "OUTAGE.RESTORATION       0.037810\n",
       "START.TIME.PERIOD        0.005867\n",
       "dtype: float64"
      ]
     },
     "execution_count": 7,
     "metadata": {},
     "output_type": "execute_result"
    }
   ],
   "source": [
    "# check for missing values\n",
    "df2.isna().mean()"
   ]
  },
  {
   "cell_type": "markdown",
   "metadata": {},
   "source": [
    "We will create a dataframe for the hypothesis test by creating a new column indicating whether or not the cause is 'severe weather'. We will assign this dataframe into a variable called df3"
   ]
  },
  {
   "cell_type": "code",
   "execution_count": 8,
   "metadata": {},
   "outputs": [],
   "source": [
    "# indicate if the value is 'severe weather'\n",
    "is_severe = df2['CAUSE.CATEGORY'].apply(lambda x: True if x == 'severe weather' else False)\n",
    "# reassign the column and get OUTAGE.DURATION into df3\n",
    "df3 = df2.copy()[['OUTAGE.DURATION']]\n",
    "df3['is_severe'] = is_severe"
   ]
  },
  {
   "cell_type": "markdown",
   "metadata": {},
   "source": [
    "### Univariate analysis"
   ]
  },
  {
   "cell_type": "markdown",
   "metadata": {},
   "source": [
    "We'll take a look at a bar plot of the occurrences of the different causes. We can see that severe weather seems to be the leading cause of outages in the U.S. followed by intentional attacks."
   ]
  },
  {
   "cell_type": "code",
   "execution_count": 9,
   "metadata": {},
   "outputs": [
    {
     "data": {
      "text/plain": [
       "<AxesSubplot:title={'center':'Distribution of Causes'}>"
      ]
     },
     "execution_count": 9,
     "metadata": {},
     "output_type": "execute_result"
    },
    {
     "data": {
      "image/png": "[encoded data removed]",
      "text/plain": [
       "<Figure size 432x288 with 1 Axes>"
      ]
     },
     "metadata": {
      "image/png": {
       "height": 400,
       "width": 375
      },
      "needs_background": "light"
     },
     "output_type": "display_data"
    }
   ],
   "source": [
    "df2['CAUSE.CATEGORY'].value_counts().plot(kind='bar', title='Distribution of Causes')"
   ]
  },
  {
   "cell_type": "markdown",
   "metadata": {},
   "source": [
    "We'll take a look at the distribution of outage duration times. We can see that there are a few outliers in the histogram"
   ]
  },
  {
   "cell_type": "code",
   "execution_count": 10,
   "metadata": {},
   "outputs": [
    {
     "data": {
      "text/plain": [
       "<AxesSubplot:title={'center':'Distribution of Outage Duration Times in Minutes'}, ylabel='Frequency'>"
      ]
     },
     "execution_count": 10,
     "metadata": {},
     "output_type": "execute_result"
    },
    {
     "data": {
      "image/png": "[encoded data removed]",
      "text/plain": [
       "<Figure size 432x288 with 1 Axes>"
      ]
     },
     "metadata": {
      "image/png": {
       "height": 263,
       "width": 411
      },
      "needs_background": "light"
     },
     "output_type": "display_data"
    }
   ],
   "source": [
    "df2['OUTAGE.DURATION'].plot(kind='hist', density=True, bins=50, title='Distribution of Outage Duration Times in Minutes')"
   ]
  },
  {
   "cell_type": "markdown",
   "metadata": {},
   "source": [
    "We can see from the describe() function that the max is 108653 minutes while the mean is around 2625 minutes. So there seems to be some outliers in the data."
   ]
  },
  {
   "cell_type": "code",
   "execution_count": 11,
   "metadata": {},
   "outputs": [
    {
     "data": {
      "text/plain": [
       "count      1476.000000\n",
       "mean       2625.398374\n",
       "std        5942.483307\n",
       "min           0.000000\n",
       "25%         102.250000\n",
       "50%         701.000000\n",
       "75%        2880.000000\n",
       "max      108653.000000\n",
       "Name: OUTAGE.DURATION, dtype: float64"
      ]
     },
     "execution_count": 11,
     "metadata": {},
     "output_type": "execute_result"
    }
   ],
   "source": [
    "df2['OUTAGE.DURATION'].dropna().astype(int).describe()"
   ]
  },
  {
   "cell_type": "markdown",
   "metadata": {},
   "source": [
    "### Bivariate analysis"
   ]
  },
  {
   "cell_type": "markdown",
   "metadata": {},
   "source": [
    "We will take a look at the distribution of outage duration times during different parts of the day. We can see that the durations when the outage occurred in the afternoon and pm are very similar while the am times seem to have a smaller variance."
   ]
  },
  {
   "cell_type": "code",
   "execution_count": 12,
   "metadata": {},
   "outputs": [
    {
     "data": {
      "text/plain": [
       "START.TIME.PERIOD\n",
       "AM           AxesSubplot(0.125,0.125;0.775x0.755)\n",
       "Afternoon    AxesSubplot(0.125,0.125;0.775x0.755)\n",
       "PM           AxesSubplot(0.125,0.125;0.775x0.755)\n",
       "Name: OUTAGE.DURATION, dtype: object"
      ]
     },
     "execution_count": 12,
     "metadata": {},
     "output_type": "execute_result"
    },
    {
     "data": {
      "image/png": "[encoded data removed]",
      "text/plain": [
       "<Figure size 432x288 with 1 Axes>"
      ]
     },
     "metadata": {
      "image/png": {
       "height": 263,
       "width": 411
      },
      "needs_background": "light"
     },
     "output_type": "display_data"
    }
   ],
   "source": [
    "df2.groupby('START.TIME.PERIOD')['OUTAGE.DURATION'].plot(kind='kde', legend=True, title='Distribution of Duration Times by Day Time')"
   ]
  },
  {
   "cell_type": "markdown",
   "metadata": {},
   "source": [
    "We will plot a histogram of the outage durations based on each category of cause. We can see that most of them are skewed right."
   ]
  },
  {
   "cell_type": "code",
   "execution_count": 13,
   "metadata": {},
   "outputs": [
    {
     "data": {
      "text/plain": [
       "CAUSE.CATEGORY\n",
       "equipment failure                AxesSubplot(0.125,0.125;0.775x0.755)\n",
       "fuel supply emergency            AxesSubplot(0.125,0.125;0.775x0.755)\n",
       "intentional attack               AxesSubplot(0.125,0.125;0.775x0.755)\n",
       "islanding                        AxesSubplot(0.125,0.125;0.775x0.755)\n",
       "public appeal                    AxesSubplot(0.125,0.125;0.775x0.755)\n",
       "severe weather                   AxesSubplot(0.125,0.125;0.775x0.755)\n",
       "system operability disruption    AxesSubplot(0.125,0.125;0.775x0.755)\n",
       "Name: OUTAGE.DURATION, dtype: object"
      ]
     },
     "execution_count": 13,
     "metadata": {},
     "output_type": "execute_result"
    },
    {
     "data": {
      "image/png": "[encoded data removed]",
      "text/plain": [
       "<Figure size 432x288 with 1 Axes>"
      ]
     },
     "metadata": {
      "image/png": {
       "height": 248,
       "width": 388
      },
      "needs_background": "light"
     },
     "output_type": "display_data"
    }
   ],
   "source": [
    "df2.groupby('CAUSE.CATEGORY')['OUTAGE.DURATION'].plot(kind='hist', density=False, alpha=0.75, legend=True)"
   ]
  },
  {
   "cell_type": "markdown",
   "metadata": {},
   "source": [
    "### Aggregates"
   ]
  },
  {
   "cell_type": "markdown",
   "metadata": {},
   "source": [
    "Now, we will take a look at some aggregate statistics. Below is the average duration grouped by category. We can see that fuel supply emergency has the highest average duration time followed by severe weather, and islanding with the lowest average"
   ]
  },
  {
   "cell_type": "code",
   "execution_count": 14,
   "metadata": {},
   "outputs": [
    {
     "data": {
      "text/plain": [
       "CAUSE.CATEGORY\n",
       "equipment failure                 1816.909091\n",
       "fuel supply emergency            13484.026316\n",
       "intentional attack                 429.980149\n",
       "islanding                          200.545455\n",
       "public appeal                     1468.449275\n",
       "severe weather                    3883.985215\n",
       "system operability disruption      728.869919\n",
       "Name: OUTAGE.DURATION, dtype: float64"
      ]
     },
     "execution_count": 14,
     "metadata": {},
     "output_type": "execute_result"
    }
   ],
   "source": [
    "# look at aggregate statistics on outage duration by the cause and time of cause\n",
    "df2.groupby('CAUSE.CATEGORY')['OUTAGE.DURATION'].mean()"
   ]
  },
  {
   "cell_type": "code",
   "execution_count": 15,
   "metadata": {},
   "outputs": [
    {
     "data": {
      "text/plain": [
       "severe weather                   763\n",
       "intentional attack               418\n",
       "system operability disruption    127\n",
       "public appeal                     69\n",
       "equipment failure                 60\n",
       "fuel supply emergency             51\n",
       "islanding                         46\n",
       "Name: CAUSE.CATEGORY, dtype: int64"
      ]
     },
     "execution_count": 15,
     "metadata": {},
     "output_type": "execute_result"
    }
   ],
   "source": [
    "df2['CAUSE.CATEGORY'].value_counts()"
   ]
  },
  {
   "cell_type": "markdown",
   "metadata": {},
   "source": [
    "We will look at the the number of times each cause occurred by time period. We can see that many of the severe weather causes occurred at night and many of the intentional attacks occurred in the morning"
   ]
  },
  {
   "cell_type": "code",
   "execution_count": 16,
   "metadata": {},
   "outputs": [
    {
     "data": {
      "text/html": [
       "<div>\n",
       "<style scoped>\n",
       "    .dataframe tbody tr th:only-of-type {\n",
       "        vertical-align: middle;\n",
       "    }\n",
       "\n",
       "    .dataframe tbody tr th {\n",
       "        vertical-align: top;\n",
       "    }\n",
       "\n",
       "    .dataframe thead th {\n",
       "        text-align: right;\n",
       "    }\n",
       "</style>\n",
       "<table border=\"1\" class=\"dataframe\">\n",
       "  <thead>\n",
       "    <tr style=\"text-align: right;\">\n",
       "      <th>START.TIME.PERIOD</th>\n",
       "      <th>AM</th>\n",
       "      <th>Afternoon</th>\n",
       "      <th>PM</th>\n",
       "    </tr>\n",
       "    <tr>\n",
       "      <th>CAUSE.CATEGORY</th>\n",
       "      <th></th>\n",
       "      <th></th>\n",
       "      <th></th>\n",
       "    </tr>\n",
       "  </thead>\n",
       "  <tbody>\n",
       "    <tr>\n",
       "      <th>equipment failure</th>\n",
       "      <td>20</td>\n",
       "      <td>23</td>\n",
       "      <td>12</td>\n",
       "    </tr>\n",
       "    <tr>\n",
       "      <th>fuel supply emergency</th>\n",
       "      <td>20</td>\n",
       "      <td>12</td>\n",
       "      <td>6</td>\n",
       "    </tr>\n",
       "    <tr>\n",
       "      <th>intentional attack</th>\n",
       "      <td>164</td>\n",
       "      <td>150</td>\n",
       "      <td>89</td>\n",
       "    </tr>\n",
       "    <tr>\n",
       "      <th>islanding</th>\n",
       "      <td>8</td>\n",
       "      <td>18</td>\n",
       "      <td>18</td>\n",
       "    </tr>\n",
       "    <tr>\n",
       "      <th>public appeal</th>\n",
       "      <td>19</td>\n",
       "      <td>47</td>\n",
       "      <td>3</td>\n",
       "    </tr>\n",
       "    <tr>\n",
       "      <th>severe weather</th>\n",
       "      <td>173</td>\n",
       "      <td>255</td>\n",
       "      <td>316</td>\n",
       "    </tr>\n",
       "    <tr>\n",
       "      <th>system operability disruption</th>\n",
       "      <td>31</td>\n",
       "      <td>60</td>\n",
       "      <td>32</td>\n",
       "    </tr>\n",
       "  </tbody>\n",
       "</table>\n",
       "</div>"
      ],
      "text/plain": [
       "START.TIME.PERIOD               AM  Afternoon   PM\n",
       "CAUSE.CATEGORY                                    \n",
       "equipment failure               20         23   12\n",
       "fuel supply emergency           20         12    6\n",
       "intentional attack             164        150   89\n",
       "islanding                        8         18   18\n",
       "public appeal                   19         47    3\n",
       "severe weather                 173        255  316\n",
       "system operability disruption   31         60   32"
      ]
     },
     "execution_count": 16,
     "metadata": {},
     "output_type": "execute_result"
    }
   ],
   "source": [
    "# look at aggregate statistics on outage duration by the cause and time of cause\n",
    "by_cause = df2.pivot_table(index='CAUSE.CATEGORY', columns='START.TIME.PERIOD',values='OUTAGE.DURATION', aggfunc='count')\n",
    "by_cause"
   ]
  },
  {
   "cell_type": "code",
   "execution_count": 17,
   "metadata": {},
   "outputs": [],
   "source": [
    "# df2['CAUSE.CATEGORY.DETAIL'] = df2['CAUSE.CATEGORY.DETAIL'].apply(lambda x: x.strip())\n",
    "# df2[df2['CAUSE.CATEGORY.DETAIL'].str.contains('Coal')]['CAUSE.CATEGORY.DETAIL']"
   ]
  },
  {
   "cell_type": "markdown",
   "metadata": {},
   "source": [
    "### Assessment of Missingness"
   ]
  },
  {
   "cell_type": "markdown",
   "metadata": {},
   "source": [
    "Create a dataframe of the columns used to assess missingness"
   ]
  },
  {
   "cell_type": "code",
   "execution_count": 18,
   "metadata": {
    "ExecuteTime": {
     "end_time": "2019-10-31T23:36:28.662099Z",
     "start_time": "2019-10-31T23:36:28.660016Z"
    }
   },
   "outputs": [
    {
     "data": {
      "text/html": [
       "<div>\n",
       "<style scoped>\n",
       "    .dataframe tbody tr th:only-of-type {\n",
       "        vertical-align: middle;\n",
       "    }\n",
       "\n",
       "    .dataframe tbody tr th {\n",
       "        vertical-align: top;\n",
       "    }\n",
       "\n",
       "    .dataframe thead th {\n",
       "        text-align: right;\n",
       "    }\n",
       "</style>\n",
       "<table border=\"1\" class=\"dataframe\">\n",
       "  <thead>\n",
       "    <tr style=\"text-align: right;\">\n",
       "      <th></th>\n",
       "      <th>CAUSE.CATEGORY</th>\n",
       "      <th>CAUSE.CATEGORY.DETAIL</th>\n",
       "      <th>OUTAGE.DURATION</th>\n",
       "    </tr>\n",
       "  </thead>\n",
       "  <tbody>\n",
       "    <tr>\n",
       "      <th>1</th>\n",
       "      <td>severe weather</td>\n",
       "      <td>NaN</td>\n",
       "      <td>3060</td>\n",
       "    </tr>\n",
       "    <tr>\n",
       "      <th>2</th>\n",
       "      <td>intentional attack</td>\n",
       "      <td>vandalism</td>\n",
       "      <td>1</td>\n",
       "    </tr>\n",
       "    <tr>\n",
       "      <th>3</th>\n",
       "      <td>severe weather</td>\n",
       "      <td>heavy wind</td>\n",
       "      <td>3000</td>\n",
       "    </tr>\n",
       "    <tr>\n",
       "      <th>4</th>\n",
       "      <td>severe weather</td>\n",
       "      <td>thunderstorm</td>\n",
       "      <td>2550</td>\n",
       "    </tr>\n",
       "    <tr>\n",
       "      <th>5</th>\n",
       "      <td>severe weather</td>\n",
       "      <td>NaN</td>\n",
       "      <td>1740</td>\n",
       "    </tr>\n",
       "  </tbody>\n",
       "</table>\n",
       "</div>"
      ],
      "text/plain": [
       "       CAUSE.CATEGORY CAUSE.CATEGORY.DETAIL OUTAGE.DURATION\n",
       "1      severe weather                   NaN            3060\n",
       "2  intentional attack             vandalism               1\n",
       "3      severe weather            heavy wind            3000\n",
       "4      severe weather          thunderstorm            2550\n",
       "5      severe weather                   NaN            1740"
      ]
     },
     "execution_count": 18,
     "metadata": {},
     "output_type": "execute_result"
    }
   ],
   "source": [
    "# get columns for assessing missingess\n",
    "df_missing = df.copy()[['CAUSE.CATEGORY', 'CAUSE.CATEGORY.DETAIL','OUTAGE.DURATION']]\n",
    "df_missing.head()"
   ]
  },
  {
   "cell_type": "markdown",
   "metadata": {},
   "source": [
    "Now, we will assess the missingness of CAUSE.CATEGORY.DETAIL, if it is dependent on the CAUSE.CATEGORY column through a permutation test."
   ]
  },
  {
   "cell_type": "code",
   "execution_count": 19,
   "metadata": {},
   "outputs": [],
   "source": [
    "# for category details\n",
    "\n",
    "#indicate if the data is missing or not\n",
    "df_missing['detail_missing'] = df_missing['CAUSE.CATEGORY.DETAIL'].isna()\n",
    "detail_tvds = []\n",
    "for _ in range(500):\n",
    "    #shuffle the category\n",
    "    df_missing['shuffled'] = np.random.permutation(df_missing['CAUSE.CATEGORY'])\n",
    "\n",
    "    # compute TVD\n",
    "    pivoted = df_missing.pivot_table(index='detail_missing', columns='shuffled', aggfunc='size').fillna(0).apply(lambda x: x/x.sum(), axis=1)\n",
    "    tvd = pivoted.diff().iloc[-1].abs().sum() / 2\n",
    "\n",
    "    # store tvd\n",
    "    detail_tvds.append(tvd)"
   ]
  },
  {
   "cell_type": "markdown",
   "metadata": {},
   "source": [
    "We can see from the p-value, that we reject the null hypothesis with a significance level of 0.05 that the distributions are the same. This means that the columns CAUSE.CATEGORY.DETAIL does depend on the column CAUSE.CATEGORY"
   ]
  },
  {
   "cell_type": "code",
   "execution_count": 20,
   "metadata": {},
   "outputs": [
    {
     "data": {
      "text/plain": [
       "0.0"
      ]
     },
     "execution_count": 20,
     "metadata": {},
     "output_type": "execute_result"
    }
   ],
   "source": [
    "# get the observed data\n",
    "emp = df_missing.pivot_table(index='CAUSE.CATEGORY', columns='detail_missing', values=None, aggfunc='size').fillna(0).apply(lambda x: x/x.sum())\n",
    "obs_tvd = emp.diff(axis=1).iloc[:,-1].abs().sum() / 2\n",
    "\n",
    "# calculate pvalue\n",
    "pval = (detail_tvds >= obs_tvd).mean()\n",
    "pval\n",
    "# reject the null. It didn't come from same distribution, so it does depend on each other"
   ]
  },
  {
   "cell_type": "markdown",
   "metadata": {},
   "source": [
    "We will assess another column, OUTAGE.DURATION, on missingness following the same procedure from before."
   ]
  },
  {
   "cell_type": "code",
   "execution_count": 21,
   "metadata": {},
   "outputs": [],
   "source": [
    "# for customers affected\n",
    "\n",
    "df_missing['duration_missing'] = df_missing['OUTAGE.DURATION'].isna()\n",
    "customer_tvds = []\n",
    "for _ in range(500):\n",
    "    #shuffle the category\n",
    "    df_missing['shuffled'] = np.random.permutation(df_missing['CAUSE.CATEGORY'])\n",
    "\n",
    "    # compute TVD\n",
    "    pivoted = df_missing.pivot_table(columns='duration_missing', index='shuffled', aggfunc='size').fillna(0).apply(lambda x: x/x.sum(), axis=1)\n",
    "\n",
    "    tvd = pivoted.diff(axis=1).iloc[-1].abs().sum() / 2\n",
    "    customer_tvds.append(tvd)"
   ]
  },
  {
   "cell_type": "markdown",
   "metadata": {},
   "source": [
    "Here, the p-value is 1. So, we would fail to reject the null hypothesis with significance level 0.05. Because we failed to reject the null that the distributions are the same, we cannot say that the OUTAGE.DURATION column depends on CAUSE.CATEGORY"
   ]
  },
  {
   "cell_type": "code",
   "execution_count": 22,
   "metadata": {},
   "outputs": [
    {
     "data": {
      "text/plain": [
       "1.0"
      ]
     },
     "execution_count": 22,
     "metadata": {},
     "output_type": "execute_result"
    }
   ],
   "source": [
    "# get the observed tvd\n",
    "emp = df_missing.pivot_table(index='CAUSE.CATEGORY', columns='duration_missing', aggfunc='size').fillna(0).apply(lambda x: x/x.sum())\n",
    "obs_tvd = emp.diff(axis=1).iloc[:, -1].abs().sum() / 2\n",
    "\n",
    "# calculate pvalue\n",
    "pval = (customer_tvds >= obs_tvd).mean()\n",
    "pval\n",
    "# fail to reject the null, so the data does not depend on CAUSE.CATEGORY"
   ]
  },
  {
   "cell_type": "markdown",
   "metadata": {},
   "source": [
    "### Hypothesis Test"
   ]
  },
  {
   "cell_type": "markdown",
   "metadata": {},
   "source": [
    "Hypothesis: The duration of the power outages caused by severe weather are the same as the duration of power outages not caused by severe weather.\n",
    "\n",
    "\n",
    "Alternative Hypothesis: Outages cause by severe weather has a longer duration on average.\n",
    "\n",
    "Test statistic: Difference in means. We will use difference in means since the two distributions are numerical\n",
    "\n",
    "Significance level: 0.05"
   ]
  },
  {
   "cell_type": "markdown",
   "metadata": {},
   "source": [
    "Now, we will perform a hypothesis test to see if outages cause by severe weather is the same as other causes. We will use the df3 dataframe created in the cleaning process"
   ]
  },
  {
   "cell_type": "markdown",
   "metadata": {},
   "source": [
    "We will now perform the test to see if the duration is the same when caused by severe weather."
   ]
  },
  {
   "cell_type": "code",
   "execution_count": 23,
   "metadata": {},
   "outputs": [],
   "source": [
    "# perform permutation test\n",
    "diffs = []\n",
    "\n",
    "# simulate 500 times\n",
    "for _ in range(500):\n",
    "    # shuffle the duration column\n",
    "    shuffled_duration = df3['OUTAGE.DURATION'].sample(frac=1).reset_index(drop=True)\n",
    "\n",
    "    # assign the shuffled column to df3\n",
    "    df3['shuffled_duration'] = shuffled_duration\n",
    "\n",
    "    # calculate the test statistic\n",
    "    group_means = df3.groupby('is_severe').mean().loc[:, 'shuffled_duration']\n",
    "    diff_means = group_means.diff().iloc[-1]\n",
    "\n",
    "    # add test statistic to list\n",
    "    diffs.append(diff_means)"
   ]
  },
  {
   "cell_type": "markdown",
   "metadata": {},
   "source": [
    "After running the test, we get a p-value of 0. So, we reject the null hypothesis with significance level 0.05 that the power outages caused by severe weather is the same as power outages not caused by severe weather. It seems that power outages caused by severe weather has a longer duration according to the alternative hypothesis."
   ]
  },
  {
   "cell_type": "code",
   "execution_count": 24,
   "metadata": {},
   "outputs": [
    {
     "data": {
      "text/plain": [
       "0.0"
      ]
     },
     "execution_count": 24,
     "metadata": {},
     "output_type": "execute_result"
    }
   ],
   "source": [
    "# calculate observed difference\n",
    "obs_diff = df3.groupby('is_severe').mean().loc[:, 'OUTAGE.DURATION'].diff().iloc[-1]\n",
    "\n",
    "pval = (diffs >= obs_diff).mean()\n",
    "pval\n",
    "# We reject the null that the power outages caused by severe weather is the same as power outages not caused by severe weather. So, it seems that outages caused by severe weather has a longer duration according to the alternative hypothesis."
   ]
  }
 ],
 "metadata": {
  "kernelspec": {
   "display_name": "Python 3.9.2 64-bit",
   "language": "python",
   "name": "python3"
  },
  "language_info": {
   "codemirror_mode": {
    "name": "ipython",
    "version": 3
   },
   "file_extension": ".py",
   "mimetype": "text/x-python",
   "name": "python",
   "nbconvert_exporter": "python",
   "pygments_lexer": "ipython3",
   "version": "3.9.2"
  },
  "vscode": {
   "interpreter": {
    "hash": "7812ea015bdcee6f23a998adcdd2ef97c151c0c241b7b7070987d9313e41299d"
   }
  }
 },
 "nbformat": 4,
 "nbformat_minor": 2
}
